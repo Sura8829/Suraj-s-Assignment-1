{
  "nbformat": 4,
  "nbformat_minor": 0,
  "metadata": {
    "colab": {
      "provenance": [],
      "authorship_tag": "ABX9TyNcN9KVRASo4nhvfSk+9h1T",
      "include_colab_link": true
    },
    "kernelspec": {
      "name": "python3",
      "display_name": "Python 3"
    },
    "language_info": {
      "name": "python"
    }
  },
  "cells": [
    {
      "cell_type": "markdown",
      "metadata": {
        "id": "view-in-github",
        "colab_type": "text"
      },
      "source": [
        "<a href=\"https://colab.research.google.com/github/Sura8829/Suraj-s-Assignment-1/blob/main/pythonbasic.ipynb\" target=\"_parent\"><img src=\"https://colab.research.google.com/assets/colab-badge.svg\" alt=\"Open In Colab\"/></a>"
      ]
    },
    {
      "cell_type": "markdown",
      "source": [
        "Q1 What is Python, and why is it popular?\n",
        "\n",
        "Answer:- Python is a programming language founded in early 1990s. It is so popular as it is an interpreted language means it executes the code line by line and it is very helpful in fixing errors. It is also very easy to learn as the codes of python includes a lot of English words or can say similar. It is also very popular as it has a vast variety of usage means it is very flexible to use. If we wish to do software development, data engineering, AI and Automation etc. we can do it with using appropriate tools with python.\n",
        "\n",
        "Q2 What is an interpreter in Python?\n",
        "\n",
        "Answer:- When we use the word interpreter in python it means that it executes and runs the code line by line. Python directly converts our code to machine language in the time whereas we need a compiler to do the same task in other language.\n",
        "\n",
        "Q3 What are pre-defined keywords in Python?\n",
        "\n",
        "Answer:- Pre-defined keyword in python meant for those terms that cannot be used as variables because these are the terms designed in such a way to perform a specific task/function. Let’s say def, if, else, elif and many more.\n",
        "\n",
        "Q4  Can keywords be used as variable names?\n",
        "\n",
        "Answer:- No, we can’t use keyword as variables because these are designed to performed a specific task/ function whereas we can choose the variables according to the structure of it. For an example if we try to use the keywords as variables this will show an error.\n",
        "\n",
        "Q5 What is mutability in Python?\n",
        "\n",
        "Answer:- The word mutability refers to a state that if an object/ variable can be changed or not. If it can be changed it will be mutable otherwise it will be an immutable object.\n",
        "\n",
        "Q6  Why are lists mutable, but tuples are immutable?\n",
        "\n",
        "Answer:- Lists are programmed to be changed means to store that data that is flexible or can say that is raw. The perfect example is the real time data like stock market or to do list whereas the tuples are designed in such a way to store the data that is fixed or rigid. We can say that is made to maintain records or permanent data.\n",
        "\n",
        "Q7  What is the difference between “==” and “is” operators in Python?\n",
        "\n",
        "Answer:- First of all, both are comparative operators in python but these have a single difference “==” compares the value and “is” compares the exact location. For example, if we put two data in python if the data is identical/ immutable, it (is) will show a true otherwise it will show a false.\n",
        "\n",
        "\n",
        "Q8  What are logical operators in Python?\n",
        "\n",
        "Answer:- As I know till now there are two logical operators in python “and” and “or”. The “and” operator will show true only if both the conditions are true else false whereas the “or” operator will show false only if both conditions are false else true.\n",
        "\n",
        "Q9 What is type casting in Python?\n",
        "\n",
        "Answer:- The process of changing variable from one type to another to another is type casting. Let’s say float to str, str to int. into to float etc. It is useful in mathematical operations that rounds off the value and many others.\n",
        "\n",
        "Q10  What is the difference between implicit and explicit type casting\n",
        "\n",
        "Answer:- Explicit type casting it is when we type our function to change the type of Float(), Int(), Str() whereas implicit type casting is when python automatically converts your provided code into its default type without our interference.\n",
        "\n",
        "Q11 What is the purpose of conditional statements in Python\n",
        "\n",
        "Answer:- The purpose of conditional statements is to control the flow of conducting/running of code. Conditional statements allow the flow to check if the coded condition is met or not (basically its true or false) if false then it goes to the next line get through the same process.\n",
        "\n",
        "Q12 How does the elif statement work?\n",
        "\n",
        "Answer:- Elif statement allows us to put multiple conditions in our code, so that the flow of executing of code of python can check different/ multiple conditions entered in a certain an order.\n",
        "\n",
        "Q13 What is the difference between for and while loops?\n",
        "\n",
        "Answer:- While loop executes a certain part/ block of code repeatedly until the required conditions is met or not. The number of executions is not fixed here where as in for loops are good to use when we know that how many times the execution is going to be performed. If we want to fill it in the for loops it will show an error or may not work accordingly.\n",
        "\n",
        "Q14 Describe a scenario where a while loop is more suitable than a for loop.\n",
        "\n",
        "Answer:- Imagine we have to build a login interface where a consumer/ user can login by using a positive integer and I think “while” loop is afar much better option because we can’t guess that how many times a user will enter a wrong input. “For” loops is not a good option as it will limit the user for entering a wrong input. Once the limit reached the program will fail/ break whereas in while loops the program will continue till the user enters the correct input,\n",
        "\n",
        "PRACTICE QUESTIONS\n",
        "\n",
        "Q1 Write a Python program to print \"Hello, World!\"\n"
      ],
      "metadata": {
        "id": "XjbgDmqahpz1"
      }
    },
    {
      "cell_type": "code",
      "source": [
        "a = \"Hello world!\"\n",
        "print(a)"
      ],
      "metadata": {
        "colab": {
          "base_uri": "https://localhost:8080/"
        },
        "id": "nKzLz6_hmcI2",
        "outputId": "1926b2c2-d9a0-40f1-d274-769a269c6eae"
      },
      "execution_count": 1,
      "outputs": [
        {
          "output_type": "stream",
          "name": "stdout",
          "text": [
            "Hello world!\n"
          ]
        }
      ]
    },
    {
      "cell_type": "markdown",
      "source": [
        " Q2 Write a Python program that displays your name and age.\n"
      ],
      "metadata": {
        "id": "nhxYk-FAmi1F"
      }
    },
    {
      "cell_type": "code",
      "source": [
        "a = input(\"Please let me know your name: \")\n",
        "if a == \"Suraj\":\n",
        "    print(\"Hello, \" + a + \". You are 20 years old.\")\n",
        "else:\n",
        "    print(\"Hello, \" + \" You are not Suraj.\")"
      ],
      "metadata": {
        "colab": {
          "base_uri": "https://localhost:8080/"
        },
        "id": "ufLC8dmxnIZf",
        "outputId": "0083f3ca-2b34-405a-fe63-9412f12d624a"
      },
      "execution_count": 3,
      "outputs": [
        {
          "output_type": "stream",
          "name": "stdout",
          "text": [
            "Please let me know your name: Suraj\n",
            "Hello, Suraj. You are 20 years old.\n"
          ]
        }
      ]
    },
    {
      "cell_type": "markdown",
      "source": [
        "Q3 Write code to print all the pre-defined keywords in Python using the keyword library."
      ],
      "metadata": {
        "id": "MiP-lnXfnZVn"
      }
    },
    {
      "cell_type": "code",
      "source": [
        "import keyword\n",
        "print(\"Keywords in Python: \")\n",
        "print(keyword.kwlist,end='')"
      ],
      "metadata": {
        "colab": {
          "base_uri": "https://localhost:8080/"
        },
        "id": "RHjwZUdlnfKP",
        "outputId": "8c1fa8f6-d437-4f89-8533-e238f375f361"
      },
      "execution_count": 4,
      "outputs": [
        {
          "output_type": "stream",
          "name": "stdout",
          "text": [
            "Keywords in Python: \n",
            "['False', 'None', 'True', 'and', 'as', 'assert', 'async', 'await', 'break', 'class', 'continue', 'def', 'del', 'elif', 'else', 'except', 'finally', 'for', 'from', 'global', 'if', 'import', 'in', 'is', 'lambda', 'nonlocal', 'not', 'or', 'pass', 'raise', 'return', 'try', 'while', 'with', 'yield']"
          ]
        }
      ]
    },
    {
      "cell_type": "markdown",
      "source": [
        "Q4 Write a program that checks if a given word is a Python keyword."
      ],
      "metadata": {
        "id": "mUDzLtYSnkUc"
      }
    },
    {
      "cell_type": "code",
      "source": [
        "import keyword\n",
        "keywordslist = keyword.kwlist\n",
        "a = input(\"Please enter any key word: \")\n",
        "if a in keywordslist:\n",
        "        print( ValueError(\"This is a keyword\"))\n",
        "else:\n",
        "        print(\"No, This is something else. \")"
      ],
      "metadata": {
        "colab": {
          "base_uri": "https://localhost:8080/"
        },
        "id": "cq48Fz8enp53",
        "outputId": "9fc5182d-8a66-49c3-e524-b24bc3158a22"
      },
      "execution_count": 8,
      "outputs": [
        {
          "output_type": "stream",
          "name": "stdout",
          "text": [
            "Please enter any key word: else\n",
            "This is a keyword\n"
          ]
        }
      ]
    },
    {
      "cell_type": "markdown",
      "source": [
        " 7. Write a program that performs basic arithmetic operations on two user-input numbers."
      ],
      "metadata": {
        "id": "cFbVCoqhoI1o"
      }
    },
    {
      "cell_type": "code",
      "source": [
        "a = int(input(\"Please enter a number: \"))\n",
        "b= int(input(\"Please enter another number: \"))\n",
        "c =input(\"What do you wanna do?\")\n",
        "\n",
        "if c == \"+\":\n",
        "    print(a+b)\n",
        "elif c == \"-\":\n",
        "    print(a-b)\n",
        "elif c == \"*\":\n",
        "    print(a*b)\n",
        "elif c == \"/\":\n",
        "    print(a/b)\n",
        "else:\n",
        "    print(\"Invalid operation\")"
      ],
      "metadata": {
        "colab": {
          "base_uri": "https://localhost:8080/"
        },
        "id": "x3ycItK1oSMM",
        "outputId": "5f4fdad9-e603-4d6c-cb26-2ce0ed8efb85"
      },
      "execution_count": 9,
      "outputs": [
        {
          "output_type": "stream",
          "name": "stdout",
          "text": [
            "Please enter a number: 45\n",
            "Please enter another number: 15\n",
            "What do you wanna do?+\n",
            "60\n"
          ]
        }
      ]
    },
    {
      "cell_type": "markdown",
      "source": [
        "12. Write a for loop to print numbers from 1 to 10.\n"
      ],
      "metadata": {
        "id": "KbV3n5xnoZOw"
      }
    },
    {
      "cell_type": "code",
      "source": [
        "for i in range(0, 11):\n",
        "    print(i)"
      ],
      "metadata": {
        "colab": {
          "base_uri": "https://localhost:8080/"
        },
        "id": "dfAkPbd4o4XL",
        "outputId": "8e5e5694-7f35-4b86-f795-ea197dbb8cce"
      },
      "execution_count": 10,
      "outputs": [
        {
          "output_type": "stream",
          "name": "stdout",
          "text": [
            "0\n",
            "1\n",
            "2\n",
            "3\n",
            "4\n",
            "5\n",
            "6\n",
            "7\n",
            "8\n",
            "9\n",
            "10\n"
          ]
        }
      ]
    },
    {
      "cell_type": "markdown",
      "source": [
        " 13. Write a Python program to find the sum of all even numbers between 1 and 50.\n"
      ],
      "metadata": {
        "id": "R9hS9jo0o8RP"
      }
    },
    {
      "cell_type": "code",
      "source": [
        "a = int(\"0\")\n",
        "for i in range(0,51):\n",
        "    if i%2 == 0:\n",
        "        a += i\n",
        "        print(a)"
      ],
      "metadata": {
        "colab": {
          "base_uri": "https://localhost:8080/"
        },
        "id": "Meb5OIsLuH7q",
        "outputId": "a7c21b22-9f1d-44e8-96c2-e837d33a3c91"
      },
      "execution_count": 11,
      "outputs": [
        {
          "output_type": "stream",
          "name": "stdout",
          "text": [
            "0\n",
            "2\n",
            "6\n",
            "12\n",
            "20\n",
            "30\n",
            "42\n",
            "56\n",
            "72\n",
            "90\n",
            "110\n",
            "132\n",
            "156\n",
            "182\n",
            "210\n",
            "240\n",
            "272\n",
            "306\n",
            "342\n",
            "380\n",
            "420\n",
            "462\n",
            "506\n",
            "552\n",
            "600\n",
            "650\n"
          ]
        }
      ]
    },
    {
      "cell_type": "markdown",
      "source": [
        " 11. Write a program that checks if a number is positive, negative, or zero.\n"
      ],
      "metadata": {
        "id": "qYYXLLNgvegq"
      }
    },
    {
      "cell_type": "code",
      "source": [
        "a = int(input(\"Enter a number:\"))\n",
        "if a ==0:\n",
        "    print(\"Zero\")\n",
        "elif a > 0:\n",
        "    print(\"Positive\")\n",
        "elif a < 0:\n",
        "    print(\"Negative\")\n",
        "else:\n",
        "    print(\"Invalid Input\")"
      ],
      "metadata": {
        "colab": {
          "base_uri": "https://localhost:8080/"
        },
        "id": "8u3-5fW1w1xq",
        "outputId": "1f758ec0-cce2-4742-a17b-c3091f0e9b71"
      },
      "execution_count": 12,
      "outputs": [
        {
          "output_type": "stream",
          "name": "stdout",
          "text": [
            "Enter a number:78\n",
            "Positive\n"
          ]
        }
      ]
    },
    {
      "cell_type": "markdown",
      "source": [
        " 10. Write code to demonstrate type casting with list elements.\n"
      ],
      "metadata": {
        "id": "rBnV_t1Aw5EV"
      }
    },
    {
      "cell_type": "code",
      "source": [
        "a = [\"1\",\"2\",\"3\",\"4\",\"5\"]\n",
        "print(a)\n",
        "print(type(a))\n",
        "print(a[1])\n",
        "print(type(a[1]))\n",
        "b=int(a[1])\n",
        "print(b)\n",
        "print(type(b))\n"
      ],
      "metadata": {
        "colab": {
          "base_uri": "https://localhost:8080/"
        },
        "id": "TrjcmiBZ1_lG",
        "outputId": "3109c92e-ee4d-4c91-d800-91d5c62e22cb"
      },
      "execution_count": 14,
      "outputs": [
        {
          "output_type": "stream",
          "name": "stdout",
          "text": [
            "['1', '2', '3', '4', '5']\n",
            "<class 'list'>\n",
            "2\n",
            "<class 'str'>\n",
            "2\n",
            "<class 'int'>\n"
          ]
        }
      ]
    },
    {
      "cell_type": "markdown",
      "source": [],
      "metadata": {
        "id": "jmoFakQW2Bu5"
      }
    }
  ]
}